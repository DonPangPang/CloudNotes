{
 "cells": [
  {
   "cell_type": "markdown",
   "metadata": {},
   "source": [
    "# JavaScript特性\n",
    "\n",
    "## 严格模式 \n",
    "为了完全启用现代JavaScript的所有特性, 我们应该在脚本顶部写上`\"use strict\"`指令"
   ]
  },
  {
   "cell_type": "markdown",
   "metadata": {},
   "source": [
    "'use strict'\n",
    "\n",
    "//..."
   ]
  },
  {
   "cell_type": "markdown",
   "metadata": {},
   "source": [
    "该指令必须位于JavaScript脚本的顶部或者函数体的开头.\n",
    "\n",
    "如果没有`\"use strict\"`, 所有的东西仍可以正常工作, 但是某些特性的表现方式与旧版兼容方式相同."
   ]
  },
  {
   "cell_type": "markdown",
   "metadata": {},
   "source": [
    "## 变量\n",
    "\n",
    "可以使用以下方式声明变量\n",
    "* `let`\n",
    "* `const`(常量)\n",
    "* `var`(旧式)"
   ]
  }
 ],
 "metadata": {
  "language_info": {
   "name": "python"
  },
  "orig_nbformat": 4
 },
 "nbformat": 4,
 "nbformat_minor": 2
}
